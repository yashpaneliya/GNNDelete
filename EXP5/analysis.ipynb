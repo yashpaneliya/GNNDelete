{
 "cells": [
  {
   "cell_type": "code",
   "execution_count": 13,
   "metadata": {},
   "outputs": [],
   "source": [
    "import pandas as pd\n",
    "import numpy as np"
   ]
  },
  {
   "cell_type": "code",
   "execution_count": 24,
   "metadata": {},
   "outputs": [],
   "source": [
    "def gen_result(df, pdf, dataset):\n",
    "    print(\"Dataset:\", dataset)\n",
    "    changed_indices = np.where(df['predicted'] != pdf['new'])\n",
    "    \n",
    "    filter_df = df.iloc[changed_indices[0]]\n",
    "    filter_df.reset_index(drop=True)\n",
    "\n",
    "    filter_pdf = pdf.iloc[changed_indices[0]]\n",
    "    filter_pdf.reset_index(drop=True)\n",
    "    \n",
    "    true_equals_new = filter_pdf[filter_pdf['true'] == filter_pdf['new']].groupby('distance').size()\n",
    "    true_equals_original = filter_df[filter_df['true'] == filter_df['predicted']].groupby('distance').size()\n",
    "\n",
    "    print(true_equals_new)\n",
    "    print(true_equals_original)"
   ]
  },
  {
   "cell_type": "code",
   "execution_count": 25,
   "metadata": {},
   "outputs": [
    {
     "name": "stdout",
     "output_type": "stream",
     "text": [
      "Dataset: Cora\n",
      "distance\n",
      "<=1     26\n",
      "<=2     65\n",
      "<=3    110\n",
      ">3      84\n",
      "dtype: int64\n",
      "distance\n",
      "<=1     46\n",
      "<=2    206\n",
      "<=3    340\n",
      ">3     197\n",
      "dtype: int64\n"
     ]
    }
   ],
   "source": [
    "df = pd.read_csv('./Cora_in_100.0_21_retrain.csv')\n",
    "pdf = pd.read_csv('./Cora_in_100.0_21_gnndelete.csv')\n",
    "\n",
    "gen_result(df, pdf, 'Cora')"
   ]
  },
  {
   "cell_type": "code",
   "execution_count": 26,
   "metadata": {},
   "outputs": [
    {
     "name": "stdout",
     "output_type": "stream",
     "text": [
      "Dataset: CS\n",
      "distance\n",
      "<=1     46\n",
      "<=2    142\n",
      "<=3     72\n",
      ">3      10\n",
      "dtype: int64\n",
      "distance\n",
      "<=1    271\n",
      "<=2    596\n",
      "<=3    242\n",
      ">3      16\n",
      "dtype: int64\n"
     ]
    }
   ],
   "source": [
    "df = pd.read_csv('./CS_in_100.0_21_retrain.csv')\n",
    "pdf = pd.read_csv('./CS_in_100.0_21_gnndelete.csv')\n",
    "\n",
    "gen_result(df, pdf, 'CS')"
   ]
  },
  {
   "cell_type": "code",
   "execution_count": 27,
   "metadata": {},
   "outputs": [
    {
     "name": "stdout",
     "output_type": "stream",
     "text": [
      "Dataset: PubMed\n",
      "distance\n",
      "<=1     49\n",
      "<=2    103\n",
      "<=3     37\n",
      ">3       9\n",
      "dtype: int64\n",
      "distance\n",
      "<=1    116\n",
      "<=2    284\n",
      "<=3    121\n",
      ">3      33\n",
      "dtype: int64\n"
     ]
    }
   ],
   "source": [
    "df = pd.read_csv('./PubMed_in_100.0_21_retrain.csv')\n",
    "pdf = pd.read_csv('./PubMed_in_100.0_21_gnndelete.csv')\n",
    "\n",
    "gen_result(df, pdf, 'PubMed')"
   ]
  },
  {
   "cell_type": "code",
   "execution_count": 28,
   "metadata": {},
   "outputs": [
    {
     "name": "stdout",
     "output_type": "stream",
     "text": [
      "Dataset: DBLP\n",
      "distance\n",
      "<=1    28\n",
      "<=2    89\n",
      "<=3    53\n",
      ">3     27\n",
      "dtype: int64\n",
      "distance\n",
      "<=1     89\n",
      "<=2    299\n",
      "<=3    135\n",
      ">3      38\n",
      "dtype: int64\n"
     ]
    }
   ],
   "source": [
    "df = pd.read_csv('./DBLP_in_100.0_21_retrain.csv')\n",
    "pdf = pd.read_csv('./DBLP_in_100.0_21_gnndelete.csv')\n",
    "\n",
    "gen_result(df, pdf, 'DBLP')"
   ]
  },
  {
   "cell_type": "code",
   "execution_count": null,
   "metadata": {},
   "outputs": [],
   "source": []
  }
 ],
 "metadata": {
  "kernelspec": {
   "display_name": "gnn",
   "language": "python",
   "name": "python3"
  },
  "language_info": {
   "codemirror_mode": {
    "name": "ipython",
    "version": 3
   },
   "file_extension": ".py",
   "mimetype": "text/x-python",
   "name": "python",
   "nbconvert_exporter": "python",
   "pygments_lexer": "ipython3",
   "version": "3.7.0"
  }
 },
 "nbformat": 4,
 "nbformat_minor": 2
}
